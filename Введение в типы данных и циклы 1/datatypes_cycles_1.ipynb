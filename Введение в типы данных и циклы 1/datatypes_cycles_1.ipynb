{
 "cells": [
  {
   "cell_type": "markdown",
   "metadata": {},
   "source": [
    "## Задание 1"
   ]
  },
  {
   "cell_type": "markdown",
   "metadata": {},
   "source": [
    "Мы делаем MVP dating-сервиса, и у нас есть список парней и девушек (их число может варьироваться):"
   ]
  },
  {
   "cell_type": "code",
   "execution_count": 3,
   "metadata": {},
   "outputs": [],
   "source": [
    "boys = ['Peter', 'Alex', 'John', 'Arthur', 'Richard']\n",
    "girls = ['Kate', 'Liza', 'Kira', 'Emma', 'Trisha']"
   ]
  },
  {
   "cell_type": "markdown",
   "metadata": {},
   "source": [
    "Выдвигаем гипотезу: лучшие рекомендации мы получим, если просто отсортируем имена по алфавиту и познакомим людей с одинаковыми индексами после сортировки! \"Познакомить\" пары нам поможет функция zip, а в цикле распакуем zip-объект и выведем информацию в виде:\n",
    "\n",
    "Идеальные пары:  \n",
    "Alex и Emma  \n",
    "Arthur и Kate  \n",
    "John и Kira  \n",
    "Peter и Liza  \n",
    "Richard и Trisha  "
   ]
  },
  {
   "cell_type": "code",
   "execution_count": 10,
   "metadata": {},
   "outputs": [
    {
     "name": "stdout",
     "output_type": "stream",
     "text": [
      "Идеальные пары:\n",
      "Alex и Emma\n",
      "Arthur и Kate\n",
      "John и Kira\n",
      "Peter и Liza\n",
      "Richard и Trisha\n"
     ]
    }
   ],
   "source": [
    "boys = sorted(boys)\n",
    "girls = sorted(girls)\n",
    "\n",
    "dating = zip(boys,girls)\n",
    "print ('Идеальные пары:')\n",
    "\n",
    "for pair in dating:\n",
    "    print(f'{pair[0]} и {pair[1]}')"
   ]
  },
  {
   "cell_type": "markdown",
   "metadata": {},
   "source": [
    "## Задание 2"
   ]
  },
  {
   "cell_type": "markdown",
   "metadata": {},
   "source": [
    "У нас есть список, содержащий информацию о среднедневной температуре в Фаренгейтах за недельный период по странам.\n",
    "Необходимо написать код, который рассчитает среднюю температуру за неделю в Цельсиях для каждой страны."
   ]
  },
  {
   "cell_type": "code",
   "execution_count": 15,
   "metadata": {},
   "outputs": [],
   "source": [
    "countries_temperature = [\n",
    " ['Thailand', [75.2, 77, 78.8, 73.4, 68, 75.2, 77]],\n",
    " ['Germany', [57.2, 55.4, 59, 59, 53.6, 55.4, 57.2]],\n",
    " ['Russia', [35.6, 37.4, 39.2, 41, 42.8, 39.2, 35.6]],\n",
    " ['Poland', [50, 50, 53.6, 57.2, 55.4, 55.4, 51.8]],\n",
    "]"
   ]
  },
  {
   "cell_type": "code",
   "execution_count": 57,
   "metadata": {},
   "outputs": [
    {
     "name": "stdout",
     "output_type": "stream",
     "text": [
      "Avg temp in Thailand: 23.9 degrees\n",
      "Avg temp in Germany: 13.7 degrees\n",
      "Avg temp in Russia: 3.7 degrees\n",
      "Avg temp in Poland: 11.9 degrees\n"
     ]
    }
   ],
   "source": [
    "for country in countries_temperature:\n",
    "    dailytemp = 0\n",
    "    days = 0\n",
    "    for tempday in country[1]:\n",
    "        dailytemp = dailytemp + ((tempday - 32) * 5/9)\n",
    "        days += 1\n",
    "    avgtemp = dailytemp / days\n",
    "    print (f\"Avg temp in {country[0]}: {round(avgtemp,1)} degrees\")"
   ]
  },
  {
   "cell_type": "markdown",
   "metadata": {},
   "source": [
    "## Задание 3"
   ]
  },
  {
   "cell_type": "markdown",
   "metadata": {},
   "source": [
    "Дан поток логов по количеству просмотренных страниц для каждого пользователя. Список отсортирован по ID пользователя. Вам необходимо написать алгоритм, который считает среднее значение просмотров на пользователя. \n",
    "Т. е. надо посчитать отношение суммы всех просмотров к количеству уникальных пользователей."
   ]
  },
  {
   "cell_type": "code",
   "execution_count": 61,
   "metadata": {},
   "outputs": [],
   "source": [
    "stream = [\n",
    "    '2018-03-29,user1,1',\n",
    "    '2018-04-04,user1,13',\n",
    "    '2018-01-05,user2,7',\n",
    "    '2018-06-14,user3,4',\n",
    "    '2018-07-02,user3,10',\n",
    "    '2018-03-21,user4,19',\n",
    "    '2018-03-22,user4,4',\n",
    "    '2018-04-22,user4,8',\n",
    "    '2018-05-03,user4,9',\n",
    "    '2018-05-11,user4,11',\n",
    "    '2018-01-01,user1,3', #перемешал вручную\n",
    "    '2018-01-07,user1,4', #перемешал вручную\n",
    "]"
   ]
  },
  {
   "cell_type": "code",
   "execution_count": 72,
   "metadata": {},
   "outputs": [
    {
     "name": "stdout",
     "output_type": "stream",
     "text": [
      "среднее количество просмотров на уникального пользователя: 23.25\n"
     ]
    }
   ],
   "source": [
    "#допилил код, если бы не список не был отсортирован по ИД пользователя\n",
    "views = 0\n",
    "userslist = [stream[0].split(',')[1]] #записываем самого первого юзера в новый массив уникальных пользователей\n",
    "for date in stream:\n",
    "    sublist = date.split(',')\n",
    "    if sublist[1] not in userslist: #если пользователь не найден в массиве уникальных пользователей\n",
    "        userslist.append(sublist[1]) #записываем пользователя в массив. Длина массива = кол-во уникальных юзеров\n",
    "    views += int(sublist[2])\n",
    "print(f'среднее количество просмотров на уникального пользователя: {round(views / len(userslist) ,2)}')"
   ]
  },
  {
   "cell_type": "markdown",
   "metadata": {},
   "source": [
    "## Задание 4"
   ]
  },
  {
   "cell_type": "markdown",
   "metadata": {},
   "source": [
    "Дана статистика рекламных кампаний по дням. Напишите алгоритм, который по паре дата-кампания ищет значение численного столбца. \n",
    "Т. е. для даты '2018-01-01' и 'google' нужно получить число 25. \n",
    "Считайте, что все комбинации дата-кампания уникальны."
   ]
  },
  {
   "cell_type": "code",
   "execution_count": 94,
   "metadata": {},
   "outputs": [],
   "source": [
    "stats = [\n",
    "    ['2018-01-01', 'google', 25],\n",
    "    ['2018-01-01', 'yandex', 65],\n",
    "    ['2018-01-01', 'market', 89],\n",
    "    ['2018-01-02', 'google', 574],\n",
    "    ['2018-01-02', 'yandex', 249],\n",
    "    ['2018-01-02', 'market', 994],\n",
    "    ['2018-01-03', 'google', 1843],\n",
    "    ['2018-01-03', 'yandex', 1327],\n",
    "    ['2018-01-03', 'market', 1764],\n",
    "    ['2018-01-03', 'google', 100], #добавил вручную для альтернативного решения\n",
    "\n",
    "]"
   ]
  },
  {
   "cell_type": "code",
   "execution_count": 95,
   "metadata": {},
   "outputs": [
    {
     "name": "stdout",
     "output_type": "stream",
     "text": [
      "введите контору gOOglE\n",
      "введите дату в формате ГГГГ-ММ-ДД 2018-01-03\n",
      "Количество рекламных компаний по Google на дату 2018-01-03 = 1843\n"
     ]
    }
   ],
   "source": [
    "company = input('введите контору ')\n",
    "date = input('введите дату в формате ГГГГ-ММ-ДД ')\n",
    "found = 0\n",
    "\n",
    "for record in stats:\n",
    "    if (record[0] == date) and (record[1].upper() == company.upper()):\n",
    "        print(f'Количество рекламных компаний по {company.capitalize()} на дату {date} = {record[2]}')\n",
    "        found = 1\n",
    "        break\n",
    "if found == 0:\n",
    "    print('ничего не найдено, проверьте название фирмы и формат даты')"
   ]
  },
  {
   "cell_type": "code",
   "execution_count": 100,
   "metadata": {},
   "outputs": [
    {
     "name": "stdout",
     "output_type": "stream",
     "text": [
      "введите контору gogol\n",
      "введите дату в формате ГГГГ-ММ-ДД 2018-01-03\n",
      "ничего не найдено, проверьте название фирмы и формат даты\n"
     ]
    }
   ],
   "source": [
    "#а вдруг комбинации дата-кампания неуникальны...\n",
    "company = input('введите контору ')\n",
    "date = input('введите дату в формате ГГГГ-ММ-ДД ')\n",
    "\n",
    "camps = 0\n",
    "found = 0\n",
    "\n",
    "for record in stats:\n",
    "    if (record[0] == date) and (record[1].upper() == company.upper()):\n",
    "        camps += record[2]\n",
    "        found = 1\n",
    "        \n",
    "if found == 0:\n",
    "    print('ничего не найдено, проверьте название фирмы и формат даты')\n",
    "else:\n",
    "    print(f'Количество рекламных компаний по {company.capitalize()} на дату {date} = {camps}')"
   ]
  },
  {
   "cell_type": "code",
   "execution_count": null,
   "metadata": {},
   "outputs": [],
   "source": []
  }
 ],
 "metadata": {
  "kernelspec": {
   "display_name": "Python 3",
   "language": "python",
   "name": "python3"
  },
  "language_info": {
   "codemirror_mode": {
    "name": "ipython",
    "version": 3
   },
   "file_extension": ".py",
   "mimetype": "text/x-python",
   "name": "python",
   "nbconvert_exporter": "python",
   "pygments_lexer": "ipython3",
   "version": "3.7.4"
  }
 },
 "nbformat": 4,
 "nbformat_minor": 2
}
