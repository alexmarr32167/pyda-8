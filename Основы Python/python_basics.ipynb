{
 "cells": [
  {
   "cell_type": "markdown",
   "metadata": {},
   "source": [
    "**Задание 1**. Даны 2 строки: *long_phrase* и *short_phrase*. \n",
    "Напишите код, который проверяет действительно ли длинная фраза *long_phrase* длиннее короткой *short_phrase*. И выводит *True* или *False* в зависимости от результата сравнения."
   ]
  },
  {
   "cell_type": "code",
   "execution_count": 10,
   "metadata": {},
   "outputs": [],
   "source": [
    "long_phrase = 'Насколько проще было бы писать программы, если бы не заказчики'\n",
    "short_phrase = '640Кб должно хватить для любых задач. Билл Гейтс (по легенде)'"
   ]
  },
  {
   "cell_type": "code",
   "execution_count": 11,
   "metadata": {},
   "outputs": [
    {
     "name": "stdout",
     "output_type": "stream",
     "text": [
      "ага\n"
     ]
    }
   ],
   "source": [
    "if len(long_phrase) > len(short_phrase):\n",
    "    print('ага')\n",
    "else:\n",
    "    print('неа')"
   ]
  },
  {
   "cell_type": "markdown",
   "metadata": {},
   "source": [
    "**Задание 2**. Дано значение объема файла в байтах (*в мегабайте 2^20 байт*). Напишите перевод этого значения в мегабайты в формате: \"*Объем файла равен 213.68Mb*\"."
   ]
  },
  {
   "cell_type": "code",
   "execution_count": 16,
   "metadata": {},
   "outputs": [
    {
     "name": "stdout",
     "output_type": "stream",
     "text": [
      "Объем файла равен 1024.0Mb\n"
     ]
    }
   ],
   "source": [
    "byts = 2 ** 20\n",
    "mb = byts/1024\n",
    "mmb = str(mb)\n",
    "print('Объем файла равен ' + mmb + 'Mb')"
   ]
  },
  {
   "cell_type": "markdown",
   "metadata": {},
   "source": [
    "**Задание 3**. Разработать приложение для определения знака зодиака по дате рождения. Пример:\n",
    "\n",
    "Введите месяц: март\n",
    "\n",
    "Введите число: 6\n",
    "\n",
    "Вывод:\n",
    "Рыбы"
   ]
  },
  {
   "cell_type": "code",
   "execution_count": 17,
   "metadata": {},
   "outputs": [
    {
     "ename": "SyntaxError",
     "evalue": "invalid syntax (<ipython-input-17-4932c37f82ea>, line 1)",
     "output_type": "error",
     "traceback": [
      "\u001b[1;36m  File \u001b[1;32m\"<ipython-input-17-4932c37f82ea>\"\u001b[1;36m, line \u001b[1;32m1\u001b[0m\n\u001b[1;33m    date = 01.01.2020\u001b[0m\n\u001b[1;37m                    ^\u001b[0m\n\u001b[1;31mSyntaxError\u001b[0m\u001b[1;31m:\u001b[0m invalid syntax\n"
     ]
    }
   ],
   "source": [
    "#ненавижу гороскопы\n",
    "#иф месяц такой-то иф дата больше такой-то и меньше такой-то то знак зодиака такой-то. следующая задачка по аналогии"
   ]
  },
  {
   "cell_type": "markdown",
   "metadata": {},
   "source": [
    "**Задание 4**. Нужно разработать приложение для финансового планирования.\n",
    "Приложение учитывает сколько уходит на ипотеку, \"на жизнь\" и сколько нужно отложить на пенсию.\n",
    "Пользователь вводит:\n",
    "- заработанную плату в месяц.\n",
    "- сколько процентов от ЗП уходит на ипотеку.\n",
    "- сколько процентов от ЗП уходит \"на жизнь\".\n",
    "- сколько раз приходит премия в год.\n",
    "\n",
    "Остальная часть заработанной платы откладывается на пенсию.\n",
    "\n",
    "Также пользователю приходит премия в размере зарплаты, от которой половина уходит на отпуск, а вторая половина откладывается.\n",
    "\n",
    "Программа должна учитывать сколько премий было в год.\n",
    "\n",
    "Нужно вывести сколько денег тратит пользователь на ипотеку и сколько он накопит за год.\n",
    "\n",
    "Пример:\n",
    "\n",
    "Введите заработанную плату в месяц: 100000\n",
    "\n",
    "Введите сколько процентов уходит на ипотеку: 30\n",
    "\n",
    "Введите сколько процентов уходит на жизнь: 50\n",
    "\n",
    "Введите количество премий за год: 2\n",
    "\n",
    "Вывод:\n",
    "На ипотеку было потрачено: 360000 рублей\n",
    "Было накоплено: 340000 рублей"
   ]
  },
  {
   "cell_type": "code",
   "execution_count": 84,
   "metadata": {},
   "outputs": [
    {
     "name": "stdout",
     "output_type": "stream",
     "text": [
      "введите ЗП 100000\n",
      "сколько процентов уходит на ипотеку (0-100)? 43\n",
      "сколько процентов уходит на жизнь (0-100)? 54\n",
      "данные приняты\n"
     ]
    }
   ],
   "source": [
    "#вводим всякое\n",
    "\n",
    "#введите зп\n",
    "salary = float(input(\"введите ЗП \"))\n",
    "\n",
    "#введите %% на ипотеку и на жизнь\n",
    "perc_mortgage = float(input(\"сколько процентов уходит на ипотеку (0-100)? \"))\n",
    "perc_life = float(input(\"сколько процентов уходит на жизнь (0-100)? \") )\n",
    "\n",
    "#введите количество премий\n",
    "bonus_count = 5\n",
    "\n",
    "if perc_mortgage + perc_life >100:\n",
    "    print (\"Братан, твоя жизнь боль. На ипотеку и жизнь уходит больше 100% зарплаты\")\n",
    "    life_is_pain = 1\n",
    "else: \n",
    "    print (\"данные приняты\")\n",
    "    life_is_pain = 0"
   ]
  },
  {
   "cell_type": "code",
   "execution_count": 85,
   "metadata": {},
   "outputs": [
    {
     "name": "stdout",
     "output_type": "stream",
     "text": [
      "Вывод: на ипотеку было потрачено: 516000 рублей. Было накоплено 286000 рублей. Жизнь прекрасна\n"
     ]
    }
   ],
   "source": [
    "#решение\n",
    "\n",
    "pens_from_sal = salary*(100-perc_mortgage-perc_life)/100 * 12\n",
    "total_bonus = salary*bonus_count\n",
    "pens_from_bonus = total_bonus*0.5\n",
    "\n",
    "\n",
    "if life_is_pain == 0:\n",
    "    life_score = 4 #качество жизни = 4/4\n",
    "\n",
    "if life_is_pain == 1:\n",
    "    not_enough = salary*(perc_mortgage + perc_life-100)/100*12\n",
    "    if pens_from_bonus >= not_enough: #можно ли покрыть недостачу бонусами и ходить в отпуск\n",
    "        pens_from_bonus = pens_from_bonus-not_enough\n",
    "        pens_from_sal = 0\n",
    "        life_score = 3 #качество жизни на троечку\n",
    "    elif total_bonus > not_enough: #можно ли покрыть недостачу бонусами и ходить в отпуск подешевле\n",
    "        pens_from_bonus = 0\n",
    "        pens_from_sal = 0\n",
    "        life_score = 2 #становится все хуже...\n",
    "    elif total_bonus == not_enough: #можно ли покрыть недостачу бонусами и забыть про отпуск\n",
    "        pens_from_bonus = 0\n",
    "        pens_from_sal = 0\n",
    "        life_score = 1\n",
    "    else: #даже бонус не покроет недостачу\n",
    "        pens_from_bonus = 0\n",
    "        pens_from_sal = 0\n",
    "        life_score = 0 #you died\n",
    "\n",
    "mort_annual = salary*perc_mortgage/100*12\n",
    "total_pens = pens_from_sal + pens_from_bonus\n",
    "\n",
    "output_mort = str(\"%.0f\" % mort_annual)\n",
    "output_pens = str(\"%.0f\" % total_pens)\n",
    "        \n",
    "if life_score == 4:\n",
    "    print(\"Вывод: на ипотеку было потрачено: \" + output_mort + \" рублей. Было накоплено \" + output_pens + \" рублей. Жизнь прекрасна\")\n",
    "elif life_score == 3:\n",
    "    print(\"Вывод: на ипотеку было потрачено: \" + output_mort + \" рублей. Зп не хватает, живешь за счет бонусов. Было накоплено \" + output_pens + \" рублей.\")\n",
    "elif life_score == 2:\n",
    "    print(\"Вывод: на ипотеку было потрачено: \" + output_mort + \" рублей. Зп не хватает, живешь за счет бонусов, на отпуск меньше половины бонуса. На пенсию не копишь.\")\n",
    "elif life_score == 1:\n",
    "    print(\"Вывод: на ипотеку было потрачено: \" + output_mort + \" рублей. Зп не хватает, живешь за счет бонусов, на отпуск денег нет. На пенсию не копишь.\")\n",
    "elif life_score == 0:\n",
    "    print(\"Вывод: на ипотеку было потрачено: \" + output_mort + \" рублей. Но тебе пофиг, т.к. денег на жизнь нужно больше чем зарабатываешь. You died.\")\n",
    "\n",
    " "
   ]
  },
  {
   "cell_type": "code",
   "execution_count": null,
   "metadata": {},
   "outputs": [],
   "source": []
  }
 ],
 "metadata": {
  "kernelspec": {
   "display_name": "Python 3",
   "language": "python",
   "name": "python3"
  },
  "language_info": {
   "codemirror_mode": {
    "name": "ipython",
    "version": 3
   },
   "file_extension": ".py",
   "mimetype": "text/x-python",
   "name": "python",
   "nbconvert_exporter": "python",
   "pygments_lexer": "ipython3",
   "version": "3.7.4"
  }
 },
 "nbformat": 4,
 "nbformat_minor": 2
}
