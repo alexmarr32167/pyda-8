{
 "cells": [
  {
   "cell_type": "markdown",
   "metadata": {},
   "source": [
    "## Задание 1"
   ]
  },
  {
   "cell_type": "markdown",
   "metadata": {},
   "source": [
    "Дан список вида:"
   ]
  },
  {
   "cell_type": "code",
   "execution_count": 2,
   "metadata": {},
   "outputs": [],
   "source": [
    "data = [\n",
    "    [13, 25, 23, 34],\n",
    "    [45, 32, 44, 47],\n",
    "    [12, 33, 23, 95],\n",
    "    [13, 53, 34, 35]\n",
    "]"
   ]
  },
  {
   "cell_type": "markdown",
   "metadata": {},
   "source": [
    "Напишите функцию, которая возвращает сумму элементов на диагонали. Т. е. 13+32+23+35.  \n",
    "Список может быть любой длины, но всегда является \"квадратным\" (количество элементов во вложенных списках равно их количеству)."
   ]
  },
  {
   "cell_type": "code",
   "execution_count": 3,
   "metadata": {},
   "outputs": [
    {
     "name": "stdout",
     "output_type": "stream",
     "text": [
      "103\n"
     ]
    }
   ],
   "source": [
    "def diag(matrix):\n",
    "    count = 0\n",
    "    sum_diag = 0\n",
    "    for row in matrix:\n",
    "        sum_diag += row[count]\n",
    "        count += 1\n",
    "    return sum_diag\n",
    "\n",
    "print(diag(data))"
   ]
  },
  {
   "cell_type": "markdown",
   "metadata": {},
   "source": [
    "## Задание 2"
   ]
  },
  {
   "cell_type": "markdown",
   "metadata": {},
   "source": [
    "Напишите функцию, возвращающую сумму первых n чисел Фибоначчи (для этого вам может понадобится ознакомиться с рекурсией)."
   ]
  },
  {
   "cell_type": "code",
   "execution_count": 32,
   "metadata": {},
   "outputs": [],
   "source": [
    "def fibonacci(number):\n",
    "\n",
    "#сумму первых двух чисел считаем ручками\n",
    "    if number == 1:\n",
    "        return 0\n",
    "    elif number == 2:\n",
    "        return 1\n",
    "#логика начиная с 3го числа \n",
    "    first = 0\n",
    "    second = 1\n",
    "    sumfib = 1 #сумма первых 2х чисел\n",
    "    counter = 3 #счетчик, с 3го числа\n",
    "    while counter <= number:\n",
    "        third = first + second\n",
    "        sumfib += third\n",
    "        first = second\n",
    "        second = third\n",
    "        counter += 1\n",
    "    return sumfib"
   ]
  },
  {
   "cell_type": "code",
   "execution_count": 36,
   "metadata": {},
   "outputs": [
    {
     "data": {
      "text/plain": [
       "88"
      ]
     },
     "execution_count": 36,
     "metadata": {},
     "output_type": "execute_result"
    }
   ],
   "source": [
    "fibonacci(10)"
   ]
  },
  {
   "cell_type": "markdown",
   "metadata": {},
   "source": [
    "## Задание 3\n"
   ]
  },
  {
   "cell_type": "markdown",
   "metadata": {},
   "source": [
    "Напишите функцию, преобразующую произвольный список вида ['2018-01-01', 'yandex', 'cpc', 100] (он может быть любой длины) в словарь {'2018-01-01': {'yandex': {'cpc': 100}}}"
   ]
  },
  {
   "cell_type": "code",
   "execution_count": 2,
   "metadata": {},
   "outputs": [],
   "source": [
    "mylist = ['2018-01-01', 'yandex', 'cpc', 100, 50, 30]\n",
    "targetlist = {'2018-01-01': {'yandex': {'cpc': {100 : {50 : 30}}}}}"
   ]
  },
  {
   "cell_type": "code",
   "execution_count": 33,
   "metadata": {},
   "outputs": [
    {
     "name": "stdout",
     "output_type": "stream",
     "text": [
      "{50: 30}\n",
      "{50: {...}}\n",
      "{50: {...}}   3\n"
     ]
    }
   ],
   "source": [
    "mylist = ['2018-01-01', 'yandex', 'cpc', 100, 50, 30]\n",
    "\n",
    "def check_type(sourcelist): #проверка чтобы вложенные в лист объекты не были листами, списками, словарями\n",
    "    if type(sourcelist) in [list,tuple,dict]:\n",
    "        return False\n",
    "    return True\n",
    "\n",
    "def create_subdict(index, value):\n",
    "    subdict = {}\n",
    "    subdict[index] = value\n",
    "    return subdict\n",
    "\n",
    "def preparedict(sourcelist):\n",
    "    targetdict = {}\n",
    "    if type(sourcelist) != list:\n",
    "        return 'error: incorrect source list'\n",
    "    \n",
    "    sourcelist.reverse()\n",
    "    i = 0\n",
    "    for item in sourcelist:\n",
    "        if i == 1:\n",
    "            targetdict[sourcelist[i]] = sourcelist[i-1]\n",
    "            xxx = targetdict\n",
    "            print(xxx)\n",
    "        elif i == 3:\n",
    "            break        \n",
    "        elif i > 1:\n",
    "            targetdict[sourcelist[i-1]] = xxx\n",
    "            print(targetdict)\n",
    "        \n",
    "        \n",
    "        i += 1\n",
    "        \n",
    "    print(targetdict[50], ' ', i)\n",
    "    \n",
    "    \n",
    "#     print(targetdict)\n",
    "\n",
    "preparedict(mylist)\n",
    "\n"
   ]
  },
  {
   "cell_type": "code",
   "execution_count": 61,
   "metadata": {},
   "outputs": [
    {
     "name": "stdout",
     "output_type": "stream",
     "text": [
      "{50: 100}\n"
     ]
    }
   ],
   "source": [
    "\n"
   ]
  },
  {
   "cell_type": "code",
   "execution_count": 80,
   "metadata": {},
   "outputs": [],
   "source": [
    "mylist = ['2018-01-01', 'yandex', 'cpc', 100]\n",
    "\n",
    "def create_subdict(index, value):\n",
    "    subdict = {}\n",
    "    subdict[index] = value\n",
    "    return subdict\n",
    "\n",
    "def createdict(sourcelist):\n",
    "    targetdict = {}\n",
    "    sourcelist.reverse() #переворачиваем список\n",
    "    targetdict = create_subdict(sourcelist[1], sourcelist[0]) #первые 2 элемента заносим в словарь вручную\n",
    "    for i in range(2,len(sourcelist)): #начиная с 3го элемента все остальное вносим циклом\n",
    "        targetdict = create_subdict(sourcelist[i] , targetdict)\n",
    "    \n",
    "    return targetdict\n"
   ]
  },
  {
   "cell_type": "code",
   "execution_count": 81,
   "metadata": {},
   "outputs": [
    {
     "name": "stdout",
     "output_type": "stream",
     "text": [
      "{'2018-01-01': {'yandex': {'cpc': 100}}}\n"
     ]
    }
   ],
   "source": [
    "print(createdict(mylist))"
   ]
  },
  {
   "cell_type": "markdown",
   "metadata": {},
   "source": [
    "## Задание 4"
   ]
  },
  {
   "cell_type": "markdown",
   "metadata": {},
   "source": [
    "Вы работаете секретарем и вам постоянно приходят различные документы. Вы должны быть очень внимательны, чтобы не потерять ни один документ. Каталог документов хранится в следующем виде:"
   ]
  },
  {
   "cell_type": "code",
   "execution_count": 1,
   "metadata": {},
   "outputs": [],
   "source": [
    "documents = [\n",
    "    {'type': 'passport', 'number': '2207 876234', 'name': 'Василий Гупкин'},\n",
    "    {'type': 'invoice', 'number': '11-2', 'name': 'Геннадий Покемонов'},\n",
    "    {'type': 'insurance', 'number': '10006', 'name': 'Аристарх Павлов'}\n",
    "]"
   ]
  },
  {
   "cell_type": "markdown",
   "metadata": {},
   "source": [
    "Перечень полок, на которых находятся документы хранится в следующем виде:"
   ]
  },
  {
   "cell_type": "code",
   "execution_count": 2,
   "metadata": {},
   "outputs": [],
   "source": [
    "directories = {\n",
    "    '1': ['2207 876234', '11-2', '5455 028765'],\n",
    "    '2': ['10006', '5400 028765', '5455 002299'],\n",
    "    '3': []\n",
    "}"
   ]
  },
  {
   "cell_type": "code",
   "execution_count": 3,
   "metadata": {},
   "outputs": [],
   "source": [
    "def people(docnum):\n",
    "    found = 0\n",
    "    for rec in documents:\n",
    "        if docnum in rec['number']:\n",
    "            print (f'{rec[\"name\"]} - номер документа {rec[\"number\"]}' )\n",
    "            found = 1\n",
    "    if found == 0:\n",
    "        return 'номер документа не найден'\n",
    "    else:\n",
    "        return 'поиск завершен'\n",
    "                   \n",
    "def shelf(docnum):\n",
    "    found = 0\n",
    "    for rec, content in directories.items():\n",
    "        for doc in content:\n",
    "            if docnum == doc:\n",
    "                found = 1\n",
    "                return f'документ № {doc} находится на полке {rec}'\n",
    "    return f'документ № {docnum} не был найден!'\n",
    "\n",
    "def list():\n",
    "    for rec in documents:\n",
    "        print(f'{rec[\"type\"]} \"{rec[\"number\"]}\" \"{rec[\"name\"]}\"')\n",
    "              \n",
    "def add_shelf(num):\n",
    "    if num in directories.keys():\n",
    "        return 'такая полка уже существует'\n",
    "    else:\n",
    "        directories[num] = []\n",
    "        return f'полка №{num} успешно добавлена'\n",
    "\n",
    "def delete_doc (docnum):\n",
    "    deleted = ''\n",
    "    for rec in documents:\n",
    "        if rec['number'] == docnum:\n",
    "            documents.remove(rec)\n",
    "            deleted += 'doc'\n",
    "            break\n",
    "    for rec, content in directories.items():\n",
    "        for doc in content:\n",
    "            if docnum == doc:\n",
    "                content.remove(doc)\n",
    "                deleted += 'dir'\n",
    "                break\n",
    "    if deleted == 'docdir':\n",
    "        return f'Документ {docnum} успешно удален из списка документов и из полки'\n",
    "    if deleted == '': \n",
    "        return f'Документ {docnum} не найден!'\n",
    "    elif deleted == 'doc':\n",
    "        return f'Документ {docnum} найден и удален только в списке документов'\n",
    "    elif deleted == 'dir':\n",
    "        return f'Документ {docnum} найден и удален только на полке'\n",
    "\n",
    "def move(docnum, num):\n",
    "    done = 0\n",
    "    found = 0\n",
    "    if num not in directories.keys():\n",
    "        return 'нет такой полки!'\n",
    "    for rec, content in directories.items():\n",
    "        if done == 1:\n",
    "            break #если перенос уже сделан, чтобы перестал бегать по словарю\n",
    "        for doc in content:\n",
    "            if docnum == doc:\n",
    "                found = 1\n",
    "                source_record = rec \n",
    "                directories[num].append(docnum)\n",
    "                content.remove(doc)\n",
    "                done = 1\n",
    "                break\n",
    "    if found == 0:\n",
    "        return f'документ № {docnum} не был найден!'\n",
    "    elif found == 1 and done == 0:\n",
    "        return f'что-то пошло не так. Проверьте cодержимое полок {source_record} и {num}' \n",
    "    else:\n",
    "        return f'документ № {docnum} успешно перенесен с полки {source_record} на полку {num}'      \n",
    "              \n",
    "def add(doctype, docnum, name, num):     \n",
    "    if num not in directories.keys():\n",
    "        return 'нет такой полки!'          \n",
    "    documents.append({'type': doctype, 'number': docnum, 'name': name})\n",
    "    directories[num].append(docnum)\n",
    "    return f'документ № {docnum} добавлен в документы и на полку №{num}'"
   ]
  },
  {
   "cell_type": "code",
   "execution_count": 4,
   "metadata": {},
   "outputs": [
    {
     "name": "stdout",
     "output_type": "stream",
     "text": [
      "документ № 999 000 добавлен в документы и на полку №3\n"
     ]
    }
   ],
   "source": [
    "# print(people('2'))\n",
    "# print('|||')\n",
    "# print(shelf('5400 028765'))\n",
    "# print('|||')\n",
    "# list()\n",
    "# print(add_shelf('4'))\n",
    "# print(delete_doc('2207 876234'))\n",
    "# print(add('ксива', '999 000', 'вася васин', '3'))\n",
    "# print(move('10006', '3'))\n",
    "\n",
    "# print(documents)\n",
    "# print(directories)\n",
    "\n"
   ]
  },
  {
   "cell_type": "code",
   "execution_count": 10,
   "metadata": {},
   "outputs": [
    {
     "name": "stdout",
     "output_type": "stream",
     "text": [
      "введите команду, введите \"q\" для выхода. Для отмены любой команды наберите \"/quit\" \n",
      "m\n",
      "ПЕРЕМЕЩЕНИЕ ДОКУМЕНТА: введите номер документа: 11-2\n",
      "ПЕРЕМЕЩЕНИЕ ДОКУМЕНТА: введите номер полки, куда переместить: 3\n",
      "документ № 11-2 успешно перенесен с полки 1 на полку 3\n",
      "введите команду, введите \"q\" для выхода. Для отмены любой команды наберите \"/quit\" \n",
      "s\n",
      "УТОЧНЕНИЕ ПОЛКИ: введите номер документа: 11-2\n",
      "документ № 11-2 находится на полке 3\n",
      "введите команду, введите \"q\" для выхода. Для отмены любой команды наберите \"/quit\" \n",
      "d\n",
      "УДАЛЕНИЕ ДОКУМЕНТА: введите номер документа: 999 000\n",
      "Документ 999 000 успешно удален из списка документов и из полки\n",
      "введите команду, введите \"q\" для выхода. Для отмены любой команды наберите \"/quit\" \n",
      "p\n",
      "ПОИСК ЧЕЛОВЕКА ПО ДОКУМЕНТУ: введите номер документа: 99\n",
      "номер документа не найден\n",
      "введите команду, введите \"q\" для выхода. Для отмены любой команды наберите \"/quit\" \n",
      "q\n"
     ]
    }
   ],
   "source": [
    "while True:\n",
    "    func = input('введите команду, введите \"q\" для выхода. Для отмены любой команды наберите \"/quit\" \\n')\n",
    "    if func == 'p':\n",
    "        a = input('ПОИСК ЧЕЛОВЕКА ПО ДОКУМЕНТУ: введите номер документа: ')\n",
    "        if a == '/quit':\n",
    "            break\n",
    "        print(people(a))\n",
    "    if func == 's':\n",
    "        a = input('УТОЧНЕНИЕ ПОЛКИ: введите номер документа: ')\n",
    "        if a == '/quit':\n",
    "            break\n",
    "        print(shelf(a))        \n",
    "    if func == 'l':\n",
    "        print(list())            \n",
    "    if func == 'as':\n",
    "        a = input('введите номер полки для создания: ')\n",
    "        if a == '/quit':\n",
    "            break\n",
    "        print(add_shelf(a))        \n",
    "    if func == 'd':\n",
    "        a = input('УДАЛЕНИЕ ДОКУМЕНТА: введите номер документа: ')\n",
    "        if a == '/quit':\n",
    "            break\n",
    "        print(delete_doc(a))\n",
    "    if func == 'm':\n",
    "        a = input('ПЕРЕМЕЩЕНИЕ ДОКУМЕНТА: введите номер документа: ')\n",
    "        if a == '/quit':\n",
    "            break\n",
    "        b = input('ПЕРЕМЕЩЕНИЕ ДОКУМЕНТА: введите номер полки, куда переместить: ')\n",
    "        if b == '/quit':\n",
    "            break\n",
    "        print(move(a,b))    \n",
    "    if func == 'a':\n",
    "        a = input('СОЗДАНИЕ ДОКУМЕНТА: введите тип документа: ')\n",
    "        if a == '/quit':\n",
    "            break\n",
    "        b = input('СОЗДАНИЕ ДОКУМЕНТА: введите номер документа: ')\n",
    "        if b == '/quit':\n",
    "            break\n",
    "        c = input('СОЗДАНИЕ ДОКУМЕНТА: введите ФИО: ')\n",
    "        if c == '/quit':\n",
    "            break\n",
    "        d = input('СОЗДАНИЕ ДОКУМЕНТА: введите номер полки, куда положить: ')\n",
    "        if d == '/quit':\n",
    "            break\n",
    "        print(add(a, b, c, d))\n",
    "    if func == 'q':\n",
    "        break"
   ]
  },
  {
   "cell_type": "code",
   "execution_count": null,
   "metadata": {},
   "outputs": [],
   "source": []
  },
  {
   "cell_type": "markdown",
   "metadata": {},
   "source": [
    "Необходимо реализовать пользовательские команды (внимание! это не название функций, которые должны быть выразительными, а команды, которые вводит пользователь, чтобы получить необходимый результат):\n",
    "  \n",
    "- p – people – команда, которая спросит номер документа и выведет имя человека, которому он принадлежит;  \n",
    "- s – shelf – команда, которая спросит номер документа и выведет номер полки, на которой он находится  \n",
    "Правильно обработайте ситуацию, когда пользователь будет вводить несуществующий документ.\n",
    "- l – list – команда, которая выведет список всех документов в формате   \n",
    "**passport \"2207 876234\" \"Василий Гупкин\"**  \n",
    "- as – add shelf – команда, которая спросит номер новой полки и добавит ее в перечень\n",
    "- d – delete – команда, которая спросит номер документа и удалит его из каталога и из перечня полок. Предусмотрите сценарий, когда пользователь вводит несуществующий документ;  \n",
    "- m – move – команда, которая спросит номер документа и целевую полку и переместит его с текущей полки на целевую. Корректно обработайте кейсы, когда пользователь пытается переместить несуществующий документ или переместить документ на несуществующую полку;  \n",
    "- a – add – команда, которая добавит новый документ в каталог и в перечень полок, спросив его номер, тип, имя владельца и номер полки, на котором он будет храниться."
   ]
  }
 ],
 "metadata": {
  "kernelspec": {
   "display_name": "Python 3",
   "language": "python",
   "name": "python3"
  },
  "language_info": {
   "codemirror_mode": {
    "name": "ipython",
    "version": 3
   },
   "file_extension": ".py",
   "mimetype": "text/x-python",
   "name": "python",
   "nbconvert_exporter": "python",
   "pygments_lexer": "ipython3",
   "version": "3.7.4"
  }
 },
 "nbformat": 4,
 "nbformat_minor": 2
}
